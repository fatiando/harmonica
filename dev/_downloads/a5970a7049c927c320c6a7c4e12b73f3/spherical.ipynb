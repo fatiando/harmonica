{
  "cells": [
    {
      "cell_type": "markdown",
      "metadata": {},
      "source": [
        "\n# Gridding in spherical coordinates\n\nThe curvature of the Earth must be taken into account when gridding and\nprocessing magnetic or gravity data on large regions. In these cases,\nprojecting the data may introduce errors due to the distortions caused by the\nprojection.\n\n:class:`harmonica.EquivalentSourcesSph` implements the equivalent sources\ntechnique in spherical coordinates. It has the same advantages as the Cartesian\nequivalent sources (:class:`harmonica.EquivalentSources`) while taking into\naccount the curvature of the Earth.\n"
      ]
    },
    {
      "cell_type": "code",
      "execution_count": null,
      "metadata": {
        "collapsed": false
      },
      "outputs": [],
      "source": [
        "import boule as bl\nimport ensaio\nimport numpy as np\nimport pandas as pd\nimport pygmt\nimport verde as vd\n\nimport harmonica as hm\n\n# Fetch the sample gravity data from South Africa\nfname = ensaio.fetch_southern_africa_gravity(version=1)\ndata = pd.read_csv(fname)\n\n# Downsample the data using a blocked mean to speed-up the computations\n# for this example. This is preferred over simply discarding points to avoid\n# aliasing effects.\nblocked_mean = vd.BlockReduce(np.mean, spacing=0.2, drop_coords=False)\n(longitude, latitude, elevation), gravity_data = blocked_mean.filter(\n    (data.longitude, data.latitude, data.height_sea_level_m),\n    data.gravity_mgal,\n)\n\n# Compute gravity disturbance by removing the gravity of normal Earth\nellipsoid = bl.WGS84\ngamma = ellipsoid.normal_gravity(latitude, height=elevation)\ngravity_disturbance = gravity_data - gamma\n\n# Convert data coordinates from geodetic (longitude, latitude, height) to\n# spherical (longitude, spherical_latitude, radius).\ncoordinates = ellipsoid.geodetic_to_spherical(longitude, latitude, elevation)\n\n# Create the equivalent sources\neqs = hm.EquivalentSourcesSph(damping=1e-3, relative_depth=10000)\n\n# Fit the sources coefficients to the observed magnetic anomaly\neqs.fit(coordinates, gravity_disturbance)\n\n# Evaluate the data fit by calculating an R\u00b2 score against the observed data.\n# This is a measure of how well the sources fit the data, NOT how good the\n# interpolation will be.\nprint(\"R\u00b2 score:\", eqs.score(coordinates, gravity_disturbance))\n\n# Interpolate data on a regular grid with 0.2 degrees spacing. The\n# interpolation requires the radius of the grid points (upward coordinate). By\n# passing in the maximum radius of the data, we're effectively\n# upward-continuing the data. The grid will be defined in spherical\n# coordinates.\nregion = vd.get_region(coordinates)  # get the region boundaries\nupward = coordinates[-1].max()\ngrid_coords = vd.grid_coordinates(region=region, spacing=0.2, extra_coords=upward)\ngrid = eqs.grid(coordinates=grid_coords, data_names=[\"gravity_disturbance\"])\n\n# The grid is a xarray.Dataset with values, coordinates, and metadata\nprint(\"\\nGenerated grid:\\n\", grid)\n\n# Mask grid points too far from data points\ngrid = vd.distance_mask(data_coordinates=coordinates, maxdist=0.5, grid=grid)\n\n# Plot observed and gridded gravity disturbance\nfig = pygmt.Figure()\n\n# Make colormap of data\n# Get the 90% of the maximum absolute value between the original and gridded\n# data so we can use the same color scale for both plots and have 0 centered\n# at the white color.\nmaxabs = vd.maxabs(gravity_disturbance, grid.gravity_disturbance.values) * 0.90\npygmt.makecpt(\n    cmap=\"vik\",\n    series=(-maxabs, maxabs),\n    background=True,\n)\n\nfig.plot(\n    projection=\"M10c\",\n    region=region,\n    frame=[\"WSne\", \"xa5\", \"ya4\"],\n    x=longitude,\n    y=latitude,\n    fill=gravity_disturbance,\n    style=\"c0.1c\",\n    cmap=True,\n)\n\nfig.colorbar(cmap=True, frame=[\"a100f50\", \"x+lmGal\"])\n\nfig.shift_origin(xshift=\"w+3c\")\n\nfig.grdimage(\n    frame=[\"ESnw\", \"xa5\", \"ya4\"],\n    grid=grid.gravity_disturbance,\n    cmap=True,\n)\n\nfig.colorbar(cmap=True, frame=[\"a100f50\", \"x+lmGal\"])\n\nfig.show()"
      ]
    }
  ],
  "metadata": {
    "kernelspec": {
      "display_name": "Python 3",
      "language": "python",
      "name": "python3"
    },
    "language_info": {
      "codemirror_mode": {
        "name": "ipython",
        "version": 3
      },
      "file_extension": ".py",
      "mimetype": "text/x-python",
      "name": "python",
      "nbconvert_exporter": "python",
      "pygments_lexer": "ipython3",
      "version": "3.12.11"
    }
  },
  "nbformat": 4,
  "nbformat_minor": 0
}