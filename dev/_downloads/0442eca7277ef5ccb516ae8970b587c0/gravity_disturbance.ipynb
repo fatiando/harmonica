{
  "cells": [
    {
      "cell_type": "markdown",
      "metadata": {},
      "source": [
        "\n# Gravity Disturbances\n\nGravity disturbances are the differences between the measured gravity and\na reference (normal) gravity produced by an ellipsoid. The disturbances are\nwhat allows geoscientists to infer the internal structure of the Earth. We'll\nuse the :meth:`boule.Ellipsoid.normal_gravity` function from :mod:`boule` to\ncalculate the global gravity disturbance of the Earth using our sample gravity\ndata.\n"
      ]
    },
    {
      "cell_type": "code",
      "execution_count": null,
      "metadata": {
        "collapsed": false
      },
      "outputs": [],
      "source": [
        "import boule as bl\nimport ensaio\nimport pygmt\nimport xarray as xr\n\n# Load the global gravity grid\nfname = ensaio.fetch_earth_gravity(version=1)\ndata = xr.load_dataset(fname)\nprint(data)\n\n# Calculate normal gravity using the WGS84 ellipsoid\nellipsoid = bl.WGS84\ngamma = ellipsoid.normal_gravity(data.latitude, data.height)\n# The disturbance is the observed minus normal gravity (calculated at the\n# observation point)\ndisturbance = data.gravity - gamma\n\n# Make a plot of data using PyGMT\nfig = pygmt.Figure()\n\npygmt.grd2cpt(grid=disturbance, cmap=\"polar\", continuous=True)\n\ntitle = \"Gravity disturbance of the Earth\"\n\nfig.grdimage(\n    region=\"g\",\n    projection=\"G160/0/15c\",\n    frame=f\"+t{title}\",\n    grid=disturbance,\n    cmap=True,\n)\n\nfig.coast(shorelines=\"0.5p,black\", resolution=\"crude\")\n\nfig.colorbar(cmap=True, frame=[\"a100f50\", \"x+lmGal\"])\n\nfig.show()"
      ]
    }
  ],
  "metadata": {
    "kernelspec": {
      "display_name": "Python 3",
      "language": "python",
      "name": "python3"
    },
    "language_info": {
      "codemirror_mode": {
        "name": "ipython",
        "version": 3
      },
      "file_extension": ".py",
      "mimetype": "text/x-python",
      "name": "python",
      "nbconvert_exporter": "python",
      "pygments_lexer": "ipython3",
      "version": "3.12.11"
    }
  },
  "nbformat": 4,
  "nbformat_minor": 0
}