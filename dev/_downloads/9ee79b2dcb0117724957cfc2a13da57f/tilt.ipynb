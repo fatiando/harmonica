{
  "cells": [
    {
      "cell_type": "markdown",
      "metadata": {},
      "source": [
        "\n# Tilt of a regular grid\n"
      ]
    },
    {
      "cell_type": "code",
      "execution_count": null,
      "metadata": {
        "collapsed": false
      },
      "outputs": [],
      "source": [
        "import ensaio\nimport pygmt\nimport verde as vd\nimport xarray as xr\nimport xrft\n\nimport harmonica as hm\n\n# Fetch magnetic grid over the Lightning Creek Sill Complex, Australia using\n# Ensaio and load it with Xarray\nfname = ensaio.fetch_lightning_creek_magnetic(version=1)\nmagnetic_grid = xr.load_dataarray(fname)\n\n# Pad the grid to increase accuracy of the FFT filter\npad_width = {\n    \"easting\": magnetic_grid.easting.size // 3,\n    \"northing\": magnetic_grid.northing.size // 3,\n}\n# drop the extra height coordinate\nmagnetic_grid_no_height = magnetic_grid.drop_vars(\"height\")\nmagnetic_grid_padded = xrft.pad(magnetic_grid_no_height, pad_width)\n\n# Compute the tilt of the grid\ntilt_grid = hm.tilt_angle(magnetic_grid_padded)\n\n# Unpad the tilt grid\ntilt_grid = xrft.unpad(tilt_grid, pad_width)\n\n# Show the tilt\nprint(\"\\nTilt:\\n\", tilt_grid)\n\n# Define the inclination and declination of the region by the time of the data\n# acquisition (1990).\ninclination, declination = -52.98, 6.51\n\n# Apply a reduction to the pole over the magnetic anomaly grid. We will assume\n# that the sources share the same inclination and declination as the\n# geomagnetic field.\nrtp_grid_padded = hm.reduction_to_pole(\n    magnetic_grid_padded, inclination=inclination, declination=declination\n)\n\n# Unpad the reduced to the pole grid\nrtp_grid = xrft.unpad(rtp_grid_padded, pad_width)\n\n# Compute the tilt of the padded rtp grid\ntilt_rtp_grid = hm.tilt_angle(rtp_grid_padded)\n\n# Unpad the tilt grid\ntilt_rtp_grid = xrft.unpad(tilt_rtp_grid, pad_width)\n\n# Show the tilt from RTP\nprint(\"\\nTilt from RTP:\\n\", tilt_rtp_grid)\n\n# Plot original magnetic anomaly, its RTP, and the tilt of both\nregion = (\n    magnetic_grid.easting.values.min(),\n    magnetic_grid.easting.values.max(),\n    magnetic_grid.northing.values.min(),\n    magnetic_grid.northing.values.max(),\n)\nfig = pygmt.Figure()\nwith fig.subplot(\n    nrows=2,\n    ncols=2,\n    subsize=(\"20c\", \"20c\"),\n    sharex=\"b\",\n    sharey=\"l\",\n    margins=[\"1c\", \"1c\"],\n):\n    scale = 0.5 * vd.maxabs(magnetic_grid, rtp_grid)\n    with fig.set_panel(panel=0):\n        # Make colormap of data\n        pygmt.makecpt(cmap=\"polar+h\", series=[-scale, scale], background=True)\n        # Plot magnetic anomaly grid\n        fig.grdimage(\n            grid=magnetic_grid,\n            projection=\"X?\",\n            cmap=True,\n            frame=[\"a\", \"+tTotal field anomaly grid\"],\n        )\n    with fig.set_panel(panel=1):\n        # Make colormap of data\n        pygmt.makecpt(cmap=\"polar+h\", series=[-scale, scale], background=True)\n        # Plot reduced to the pole magnetic anomaly grid\n        fig.grdimage(\n            grid=rtp_grid,\n            projection=\"X?\",\n            cmap=True,\n            frame=[\"a\", \"+tReduced to the pole (RTP)\"],\n        )\n        # Add colorbar\n        label = \"nT\"\n        fig.colorbar(\n            frame=f\"af+l{label}\",\n            position=\"JMR+o1/-0.25c+e\",\n        )\n\n    scale = 0.6 * vd.maxabs(tilt_grid, tilt_rtp_grid)\n    with fig.set_panel(panel=2):\n        # Make colormap for tilt (saturate it a little bit)\n        pygmt.makecpt(cmap=\"polar+h\", series=[-scale, scale], background=True)\n        # Plot tilt\n        fig.grdimage(\n            grid=tilt_grid,\n            projection=\"X?\",\n            cmap=True,\n            frame=[\"a\", \"+tTilt of total field anomaly grid\"],\n        )\n    with fig.set_panel(panel=3):\n        # Make colormap for tilt rtp (saturate it a little bit)\n        pygmt.makecpt(cmap=\"polar+h\", series=[-scale, scale], background=True)\n        # Plot tilt\n        fig.grdimage(\n            grid=tilt_rtp_grid,\n            projection=\"X?\",\n            cmap=True,\n            frame=[\"a\", \"+tTilt of RTP grid\"],\n        )\n        # Add colorbar\n        label = \"rad\"\n        fig.colorbar(\n            frame=f\"af+l{label}\",\n            position=\"JMR+o1/-0.25c+e\",\n        )\nfig.show()"
      ]
    }
  ],
  "metadata": {
    "kernelspec": {
      "display_name": "Python 3",
      "language": "python",
      "name": "python3"
    },
    "language_info": {
      "codemirror_mode": {
        "name": "ipython",
        "version": 3
      },
      "file_extension": ".py",
      "mimetype": "text/x-python",
      "name": "python",
      "nbconvert_exporter": "python",
      "pygments_lexer": "ipython3",
      "version": "3.12.11"
    }
  },
  "nbformat": 4,
  "nbformat_minor": 0
}