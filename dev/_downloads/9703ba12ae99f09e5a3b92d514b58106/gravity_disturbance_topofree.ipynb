{
  "cells": [
    {
      "cell_type": "markdown",
      "metadata": {},
      "source": [
        "\n# Topography-free (Bouguer) Gravity Disturbances\n\nThe gravity disturbance is the observed gravity minus the normal gravity\n(:meth:`boule.Ellipsoid.normal_gravity`). The signal that is left is assumed to\nbe due to the differences between the actual Earth and the reference ellipsoid.\nBig components in this signal are the effects of topographic masses outside of\nthe ellipsoid and residual effects of the oceans (we removed ellipsoid crust\nwhere there was actually ocean water). These two components are relatively well\nknown and can be removed from the gravity disturbance. The simplest way of\ncalculating the effects of topography and oceans is through the Bouguer plate\napproximation.\n\nWe'll use :func:`harmonica.bouguer_correction` to calculate a topography-free\ngravity disturbance for Earth using our sample gravity and topography data. One\nthing to note is that the ETOPO1 topography is referenced to the geoid, not the\nellipsoid. Since we want to remove the masses between the surface of the Earth\nand ellipsoid, we need to add the geoid height to the topography before Bouguer\ncorrection.\n"
      ]
    },
    {
      "cell_type": "code",
      "execution_count": null,
      "metadata": {
        "collapsed": false
      },
      "outputs": [],
      "source": [
        "import boule as bl\nimport ensaio\nimport pygmt\nimport xarray as xr\n\nimport harmonica as hm\n\n# Load the global gravity, topography, and geoid grids\nfname_gravity = ensaio.fetch_earth_gravity(version=1)\nfname_geoid = ensaio.fetch_earth_geoid(version=1)\nfname_topo = ensaio.fetch_earth_topography(version=1)\ndata = xr.merge(\n    [\n        xr.load_dataarray(fname_gravity),\n        xr.load_dataarray(fname_geoid),\n        xr.load_dataarray(fname_topo),\n    ]\n)\nprint(data)\n\n# Calculate normal gravity and the disturbance\nellipsoid = bl.WGS84\ngamma = ellipsoid.normal_gravity(data.latitude, data.height)\ndisturbance = data.gravity - gamma\n\n# Reference the topography to the ellipsoid\ntopography_ell = data.topography + data.geoid\n\n# Calculate the Bouguer planar correction and the topography-free disturbance.\n# Use the default densities for the crust and ocean water.\nbouguer = hm.bouguer_correction(topography_ell)\ndisturbance_topofree = disturbance - bouguer\n\n# Make a plot of data using PyGMT\nfig = pygmt.Figure()\n\npygmt.grd2cpt(grid=disturbance_topofree, cmap=\"vik+h0\", continuous=True)\n\ntitle = \"Topography-free (Bouguer) gravity disturbance of the Earth\"\n\nwith pygmt.config(FONT_TITLE=\"14p\"):\n    fig.grdimage(\n        region=\"g\",\n        projection=\"G-60/0/15c\",\n        frame=f\"+t{title}\",\n        grid=disturbance_topofree,\n        cmap=True,\n    )\n\nfig.coast(shorelines=\"0.5p,black\", resolution=\"crude\")\n\nfig.colorbar(cmap=True, frame=[\"a200f50\", \"x+lmGal\"])\n\nfig.show()"
      ]
    }
  ],
  "metadata": {
    "kernelspec": {
      "display_name": "Python 3",
      "language": "python",
      "name": "python3"
    },
    "language_info": {
      "codemirror_mode": {
        "name": "ipython",
        "version": 3
      },
      "file_extension": ".py",
      "mimetype": "text/x-python",
      "name": "python",
      "nbconvert_exporter": "python",
      "pygments_lexer": "ipython3",
      "version": "3.12.11"
    }
  },
  "nbformat": 4,
  "nbformat_minor": 0
}