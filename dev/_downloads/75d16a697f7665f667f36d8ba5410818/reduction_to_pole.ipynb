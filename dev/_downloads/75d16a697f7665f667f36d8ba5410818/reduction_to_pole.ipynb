{
  "cells": [
    {
      "cell_type": "markdown",
      "metadata": {},
      "source": [
        "\n# Reduction to the pole of a magnetic anomaly grid\n"
      ]
    },
    {
      "cell_type": "code",
      "execution_count": null,
      "metadata": {
        "collapsed": false
      },
      "outputs": [],
      "source": [
        "import ensaio\nimport pygmt\nimport verde as vd\nimport xarray as xr\nimport xrft\n\nimport harmonica as hm\n\n# Fetch magnetic grid over the Lightning Creek Sill Complex, Australia using\n# Ensaio and load it with Xarray\nfname = ensaio.fetch_lightning_creek_magnetic(version=1)\nmagnetic_grid = xr.load_dataarray(fname)\n\n# Pad the grid to increase accuracy of the FFT filter\npad_width = {\n    \"easting\": magnetic_grid.easting.size // 3,\n    \"northing\": magnetic_grid.northing.size // 3,\n}\n# drop the extra height coordinate\nmagnetic_grid_no_height = magnetic_grid.drop_vars(\"height\")\nmagnetic_grid_padded = xrft.pad(magnetic_grid_no_height, pad_width)\n\n# Define the inclination and declination of the region by the time of the data\n# acquisition (1990).\ninclination, declination = -52.98, 6.51\n\n# Apply a reduction to the pole over the magnetic anomaly grid. We will assume\n# that the sources share the same inclination and declination as the\n# geomagnetic field.\nrtp_grid = hm.reduction_to_pole(\n    magnetic_grid_padded, inclination=inclination, declination=declination\n)\n\n# Unpad the reduced to the pole grid\nrtp_grid = xrft.unpad(rtp_grid, pad_width)\n\n# Show the reduced to the pole grid\nprint(\"\\nReduced to the pole magnetic grid:\\n\", rtp_grid)\n\n\n# Plot original magnetic anomaly and the reduced to the pole\nfig = pygmt.Figure()\nwith fig.subplot(nrows=1, ncols=2, figsize=(\"28c\", \"15c\"), sharey=\"l\"):\n    # Make colormap for both plots (saturate it a little bit)\n    scale = 0.5 * vd.maxabs(magnetic_grid, rtp_grid)\n    pygmt.makecpt(cmap=\"polar+h\", series=[-scale, scale], background=True)\n    with fig.set_panel(panel=0):\n        # Plot magnetic anomaly grid\n        fig.grdimage(\n            grid=magnetic_grid,\n            projection=\"X?\",\n            cmap=True,\n        )\n        # Add colorbar\n        fig.colorbar(\n            frame='af+l\"Magnetic anomaly [nT]\"',\n            position=\"JBC+h+o0/1c+e\",\n        )\n    with fig.set_panel(panel=1):\n        # Plot upward reduced to the pole grid\n        fig.grdimage(grid=rtp_grid, projection=\"X?\", cmap=True)\n        # Add colorbar\n        fig.colorbar(\n            frame='af+l\"Reduced to the pole [nT]\"',\n            position=\"JBC+h+o0/1c+e\",\n        )\nfig.show()"
      ]
    }
  ],
  "metadata": {
    "kernelspec": {
      "display_name": "Python 3",
      "language": "python",
      "name": "python3"
    },
    "language_info": {
      "codemirror_mode": {
        "name": "ipython",
        "version": 3
      },
      "file_extension": ".py",
      "mimetype": "text/x-python",
      "name": "python",
      "nbconvert_exporter": "python",
      "pygments_lexer": "ipython3",
      "version": "3.12.11"
    }
  },
  "nbformat": 4,
  "nbformat_minor": 0
}