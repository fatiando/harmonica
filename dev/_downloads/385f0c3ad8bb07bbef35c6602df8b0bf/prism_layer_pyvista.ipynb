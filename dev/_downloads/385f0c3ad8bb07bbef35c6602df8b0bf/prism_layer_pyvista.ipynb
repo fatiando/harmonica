{
  "cells": [
    {
      "cell_type": "markdown",
      "metadata": {},
      "source": [
        "\n# Plot a prism layer in 3D\n\nThe :func:`harmonica.prism_layer` allows to easily create a layer of prisms\nwhose top and bottom boundaries might drape a certain surface, like topography,\nbathymetry or the Moho discontinuity. It returns a :class:`xarray.Dataset`\nobject with the horizontal coordinates of the center of each prism, their top\nand bottom boundaries and their physical properties, like their density.\nThrough the ``prism_layer`` accessor (see\n:class:`harmonica.DatasetAccessorPrismLayer`) we can call some methods for our\nprism layer. For example, the\n:meth:`harmonica.DatasetAccessorPrismLayer.gravity` method lets us compute the\ngravitational fields of the layer on any set of observation points.\nAnother interesting method is the\n:meth:`harmonica.DatasetAccessorPrismLayer.to_pyvista`: it converts the prism\nlayer into a :class:`pyvista.UnstructuredGrid` that could be easily plotted\nthrough ``pyvista``.\n\nIn this example we will show how we can build a prism layer out of a topography\nand bathymetry grid for South Africa and how we can visualize the layer as a 3D\nplot using ``pyvista``.\n"
      ]
    },
    {
      "cell_type": "code",
      "execution_count": null,
      "metadata": {
        "collapsed": false
      },
      "outputs": [],
      "source": [
        "import ensaio\nimport pyproj\nimport pyvista as pv\nimport verde as vd\nimport xarray as xr\n\nimport harmonica as hm\n\n# Read South Africa topography\nfname = ensaio.fetch_southern_africa_topography(version=1)\nsouth_africa_topo = xr.load_dataset(fname)\n\n# Project the grid\nprojection = pyproj.Proj(proj=\"merc\", lat_ts=south_africa_topo.latitude.values.mean())\nsouth_africa_topo = vd.project_grid(south_africa_topo.topography, projection=projection)\n\n# Create a 2d array with the density of the prisms Points above the geoid will\n# have a density of 2670 kg/m^3 Points below the geoid will have a density\n# contrast equal to the difference between the density of the ocean and the\n# density of the upper crust: # 1000 kg/m^3 - 2900 kg/m^3\ndensity = south_africa_topo.copy()  # copy topography to a new xr.DataArray\ndensity.values[:] = 2670.0  # replace every value for the density of the topography\n# Change density values of ocean points\ndensity = density.where(south_africa_topo >= 0, 1000 - 2900)\n\n# Create layer of prisms\nprisms = hm.prism_layer(\n    (south_africa_topo.easting, south_africa_topo.northing),\n    surface=south_africa_topo,\n    reference=0,\n    properties={\"density\": density},\n)\n\n# Create a pyvista UnstructuredGrid from the prism layer\npv_grid = prisms.prism_layer.to_pyvista()\npv_grid"
      ]
    },
    {
      "cell_type": "code",
      "execution_count": null,
      "metadata": {
        "collapsed": false
      },
      "outputs": [],
      "source": [
        "# Plot with pyvista\nplotter = pv.Plotter(lighting=\"three_lights\", window_size=(1000, 800))\nplotter.add_mesh(pv_grid, scalars=\"density\")\nplotter.set_scale(zscale=75)  # exaggerate the vertical coordinate\nplotter.camera_position = \"xz\"\nplotter.camera.elevation = 20\nplotter.camera.azimuth = 35\nplotter.camera.zoom(1.2)\n\n# Add a ceiling light\nwest, east, south, north = vd.get_region((prisms.easting, prisms.northing))\neasting_center, northing_center = (east + west) / 2, (north + south) / 2\nlight = pv.Light(\n    position=(easting_center, northing_center, 10e3),\n    focal_point=(easting_center, northing_center, 0),\n    intensity=0.3,\n    light_type=\"scene light\",  # the light doesn't move with the camera\n    positional=False,  # the light comes from infinity\n)\nplotter.add_light(light)\n\nplotter.show_axes()\nplotter.show()"
      ]
    }
  ],
  "metadata": {
    "kernelspec": {
      "display_name": "Python 3",
      "language": "python",
      "name": "python3"
    },
    "language_info": {
      "codemirror_mode": {
        "name": "ipython",
        "version": 3
      },
      "file_extension": ".py",
      "mimetype": "text/x-python",
      "name": "python",
      "nbconvert_exporter": "python",
      "pygments_lexer": "ipython3",
      "version": "3.12.11"
    }
  },
  "nbformat": 4,
  "nbformat_minor": 0
}