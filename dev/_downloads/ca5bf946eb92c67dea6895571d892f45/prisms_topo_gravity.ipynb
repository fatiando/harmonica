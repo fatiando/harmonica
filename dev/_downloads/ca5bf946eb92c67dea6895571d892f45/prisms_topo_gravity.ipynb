{
  "cells": [
    {
      "cell_type": "markdown",
      "metadata": {},
      "source": [
        "\n# Gravitational effect of topography\n\nOne possible application of the :func:`harmonica.prism_layer` function is to\ncreate a model of the terrain and compute its gravity effect. Here we will use\na regular grid of topographic and bathymetric heights for South Africa to\ncreate a prisms layer that model the terrain with a density of 2670 kg/m^3 and\nthe ocean with a density contrast of -1900 kg/m^3 obtained as the difference\nbetween the density of water (1000 kg/m^3) and the normal density of upper\ncrust (2900 kg/m^3). Then we will use :func:`harmonica.prism_gravity` to\ncompute the gravity effect of the model on a regular grid of observation\npoints.\n"
      ]
    },
    {
      "cell_type": "code",
      "execution_count": null,
      "metadata": {
        "collapsed": false
      },
      "outputs": [],
      "source": [
        "import ensaio\nimport pygmt\nimport pyproj\nimport verde as vd\nimport xarray as xr\n\nimport harmonica as hm\n\n# Read Earth's topography grid\nfname = ensaio.fetch_earth_topography(version=1)\ntopography = xr.load_dataset(fname)\n\n# Crop the topography limited to South Africa\nregion = (12, 33, -35, -18)\nregion_padded = vd.pad_region(region, pad=5)  # pad the original region\ntopography = topography.sel(\n    longitude=slice(*region_padded[:2]),\n    latitude=slice(*region_padded[2:]),\n)\n\n# Project the grid\nprojection = pyproj.Proj(proj=\"merc\", lat_ts=topography.latitude.values.mean())\nsouth_africa_topo = vd.project_grid(topography.topography, projection=projection)\n\n# Create a 2d array with the density of the prisms Points above the geoid will\n# have a density of 2670 kg/m^3 Points below the geoid will have a density\n# contrast equal to the difference between the density of the ocean and the\n# density of the upper crust: # 1000 kg/m^3 - 2900 kg/m^3\ndensity = south_africa_topo.copy()  # copy topography to a new xr.DataArray\ndensity.values[:] = 2670.0  # replace every value for the density of the topography\n# Change density values of ocean points\ndensity = density.where(south_africa_topo >= 0, 1000 - 2900)\n\n# Create layer of prisms\nprisms = hm.prism_layer(\n    (south_africa_topo.easting, south_africa_topo.northing),\n    surface=south_africa_topo,\n    reference=0,\n    properties={\"density\": density},\n)\n\n# Compute gravity field on a regular grid located at 4000m above the ellipsoid\ncoordinates = vd.grid_coordinates(region=region, spacing=0.2, extra_coords=4000)\neasting, northing = projection(*coordinates[:2])\ncoordinates_projected = (easting, northing, coordinates[-1])\nprisms_gravity = prisms.prism_layer.gravity(coordinates_projected, field=\"g_z\")\n\n# merge into a dataset\ngrid = vd.make_xarray_grid(\n    coordinates_projected,\n    prisms_gravity,\n    data_names=\"gravity\",\n    extra_coords_names=\"extra\",\n)\n\n# Set figure properties\nxy_region = vd.get_region((easting, northing))\nw, e, s, n = xy_region\nfig_height = 10\nfig_width = fig_height * (e - w) / (n - s)\nfig_ratio = (n - s) / (fig_height / 100)\nfig_proj = f\"x1:{fig_ratio}\"\n\n# Make a plot of the computed gravity\nfig = pygmt.Figure()\n\ntitle = \"Gravitational acceleration of the topography\"\n\nwith pygmt.config(FONT_TITLE=\"14p\"):\n    fig.grdimage(\n        region=xy_region,\n        projection=fig_proj,\n        grid=grid.gravity,\n        frame=[\"ag\", f\"+t{title}\"],\n        cmap=\"vik\",\n    )\n\nfig.colorbar(cmap=True, frame=[\"a100f50\", \"x+lmGal\"])\n\nfig.show()"
      ]
    }
  ],
  "metadata": {
    "kernelspec": {
      "display_name": "Python 3",
      "language": "python",
      "name": "python3"
    },
    "language_info": {
      "codemirror_mode": {
        "name": "ipython",
        "version": 3
      },
      "file_extension": ".py",
      "mimetype": "text/x-python",
      "name": "python",
      "nbconvert_exporter": "python",
      "pygments_lexer": "ipython3",
      "version": "3.12.11"
    }
  },
  "nbformat": 4,
  "nbformat_minor": 0
}