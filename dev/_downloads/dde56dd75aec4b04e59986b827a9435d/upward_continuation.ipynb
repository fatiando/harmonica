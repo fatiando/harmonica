{
  "cells": [
    {
      "cell_type": "markdown",
      "metadata": {},
      "source": [
        "\n# Upward continuation of a regular grid\n"
      ]
    },
    {
      "cell_type": "code",
      "execution_count": null,
      "metadata": {
        "collapsed": false
      },
      "outputs": [],
      "source": [
        "import ensaio\nimport pygmt\nimport xarray as xr\nimport xrft\n\nimport harmonica as hm\n\n# Fetch magnetic grid over the Lightning Creek Sill Complex, Australia using\n# Ensaio and load it with Xarray\nfname = ensaio.fetch_lightning_creek_magnetic(version=1)\nmagnetic_grid = xr.load_dataarray(fname)\n\n# Pad the grid to increase accuracy of the FFT filter\npad_width = {\n    \"easting\": magnetic_grid.easting.size // 3,\n    \"northing\": magnetic_grid.northing.size // 3,\n}\n# drop the extra height coordinate\nmagnetic_grid_no_height = magnetic_grid.drop_vars(\"height\")\nmagnetic_grid_padded = xrft.pad(magnetic_grid_no_height, pad_width)\n\n# Upward continue the magnetic grid, from 500 m to 1000 m\n# (a height displacement of 500m)\nupward_continued = hm.upward_continuation(magnetic_grid_padded, height_displacement=500)\n\n# Unpad the upward continued grid\nupward_continued = xrft.unpad(upward_continued, pad_width)\n\n# Show the upward continued grid\nprint(\"\\nUpward continued magnetic grid:\\n\", upward_continued)\n\n\n# Plot original magnetic anomaly and the upward continued grid\nfig = pygmt.Figure()\nwith fig.subplot(nrows=1, ncols=2, figsize=(\"28c\", \"15c\"), sharey=\"l\"):\n    # Make colormap for both plots data\n    scale = 2500\n    pygmt.makecpt(cmap=\"polar+h\", series=[-scale, scale], background=True)\n    with fig.set_panel(panel=0):\n        # Plot magnetic anomaly grid\n        fig.grdimage(\n            grid=magnetic_grid,\n            projection=\"X?\",\n            cmap=True,\n        )\n        # Add colorbar\n        fig.colorbar(\n            frame='af+l\"Magnetic anomaly at 500m [nT]\"',\n            position=\"JBC+h+o0/1c+e\",\n        )\n    with fig.set_panel(panel=1):\n        # Plot upward continued grid\n        fig.grdimage(grid=upward_continued, projection=\"X?\", cmap=True)\n        # Add colorbar\n        fig.colorbar(\n            frame='af+l\"Upward continued to 1000m [nT]\"',\n            position=\"JBC+h+o0/1c+e\",\n        )\nfig.show()"
      ]
    }
  ],
  "metadata": {
    "kernelspec": {
      "display_name": "Python 3",
      "language": "python",
      "name": "python3"
    },
    "language_info": {
      "codemirror_mode": {
        "name": "ipython",
        "version": 3
      },
      "file_extension": ".py",
      "mimetype": "text/x-python",
      "name": "python",
      "nbconvert_exporter": "python",
      "pygments_lexer": "ipython3",
      "version": "3.12.11"
    }
  },
  "nbformat": 4,
  "nbformat_minor": 0
}