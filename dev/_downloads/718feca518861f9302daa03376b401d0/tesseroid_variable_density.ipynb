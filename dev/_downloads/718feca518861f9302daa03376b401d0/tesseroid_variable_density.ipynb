{
  "cells": [
    {
      "cell_type": "markdown",
      "metadata": {},
      "source": [
        "\n# Tesseroids with variable density\n\nThe :func:`harmonica.tesseroid_gravity` is capable of computing the\ngravitational effects of tesseroids whose density is defined through\na continuous function of the radial coordinate. This is achieved by the\napplication of the method introduced in [Soler2021]_.\n\nTo do so we need to define a regular Python function for the density, which\nshould have a single argument (the ``radius`` coordinate) and return the\ndensity of the tesseroids at that radial coordinate.\nIn addition, we need to decorate the density function with\n:func:`numba.jit(nopython=True)` or ``numba.njit`` for short.\n\nOn this example we will show how we can compute the gravitational effect of\nfour tesseroids whose densities are given by a custom linear ``density``\nfunction.\n"
      ]
    },
    {
      "cell_type": "code",
      "execution_count": null,
      "metadata": {
        "collapsed": false
      },
      "outputs": [],
      "source": [
        "import boule as bl\nimport pygmt\nimport verde as vd\nfrom numba import njit\n\nimport harmonica as hm\n\n# Use the WGS84 ellipsoid to obtain the mean Earth radius which we'll use to\n# reference the tesseroid\nellipsoid = bl.WGS84\nmean_radius = ellipsoid.mean_radius\n\n# Define tesseroid with top surface at the mean Earth radius, a thickness of\n# 10km and a linear density function\ntesseroids = (\n    [-70, -60, -40, -30, mean_radius - 3e3, mean_radius],\n    [-70, -60, -30, -20, mean_radius - 5e3, mean_radius],\n    [-60, -50, -40, -30, mean_radius - 7e3, mean_radius],\n    [-60, -50, -30, -20, mean_radius - 10e3, mean_radius],\n)\n\n# Define a linear density function. We should use the jit decorator so Numba\n# can run the forward model efficiently.\n\n\n@njit\ndef density(radius):\n    \"\"\"Linear density function\"\"\"\n    top = mean_radius\n    bottom = mean_radius - 10e3\n    density_top = 2670\n    density_bottom = 3000\n    slope = (density_top - density_bottom) / (top - bottom)\n    return slope * (radius - bottom) + density_bottom\n\n\n# Define computation points on a regular grid at 100km above the mean Earth\n# radius\ncoordinates = vd.grid_coordinates(\n    region=[-80, -40, -50, -10],\n    shape=(80, 80),\n    extra_coords=100e3 + ellipsoid.mean_radius,\n)\n\n# Compute the radial component of the acceleration\ngravity = hm.tesseroid_gravity(coordinates, tesseroids, density, field=\"g_z\")\nprint(gravity)\ngrid = vd.make_xarray_grid(\n    coordinates, gravity, data_names=\"gravity\", extra_coords_names=\"extra\"\n)\n\n# Plot the gravitational field\nfig = pygmt.Figure()\n\ntitle = \"Downward component of gravitational acceleration\"\n\nwith pygmt.config(FONT_TITLE=\"16p\"):\n    fig.grdimage(\n        region=[-80, -40, -50, -10],\n        projection=\"M-60/-30/10c\",\n        grid=grid.gravity,\n        frame=[\"a\", f\"+t{title}\"],\n        cmap=\"viridis\",\n    )\n\nfig.colorbar(cmap=True, frame=[\"a200f50\", \"x+lmGal\"])\n\nfig.coast(shorelines=\"1p,black\")\n\nfig.show()"
      ]
    }
  ],
  "metadata": {
    "kernelspec": {
      "display_name": "Python 3",
      "language": "python",
      "name": "python3"
    },
    "language_info": {
      "codemirror_mode": {
        "name": "ipython",
        "version": 3
      },
      "file_extension": ".py",
      "mimetype": "text/x-python",
      "name": "python",
      "nbconvert_exporter": "python",
      "pygments_lexer": "ipython3",
      "version": "3.12.11"
    }
  },
  "nbformat": 4,
  "nbformat_minor": 0
}