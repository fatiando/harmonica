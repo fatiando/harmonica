{
 "cells": [
  {
   "cell_type": "code",
   "execution_count": 1,
   "id": "f597eda5",
   "metadata": {
    "execution": {
     "iopub.execute_input": "2025-09-19T18:31:16.043093Z",
     "iopub.status.busy": "2025-09-19T18:31:16.042924Z",
     "iopub.status.idle": "2025-09-19T18:31:17.124884Z",
     "shell.execute_reply": "2025-09-19T18:31:17.124367Z"
    }
   },
   "outputs": [],
   "source": [
    "import verde as vd\n",
    "\n",
    "# Define boundaries of the rectangular prism (in meters)\n",
    "west, east, south, north = -20, 20, -20, 20\n",
    "bottom, top = -40, -20\n",
    "prism = [west, east, south, north, bottom, top]"
   ]
  },
  {
   "cell_type": "code",
   "execution_count": 2,
   "id": "2380d15f",
   "metadata": {
    "execution": {
     "iopub.execute_input": "2025-09-19T18:31:17.126685Z",
     "iopub.status.busy": "2025-09-19T18:31:17.126380Z",
     "iopub.status.idle": "2025-09-19T18:31:17.130502Z",
     "shell.execute_reply": "2025-09-19T18:31:17.130095Z"
    }
   },
   "outputs": [
    {
     "name": "stdout",
     "output_type": "stream",
     "text": [
      "easting: [[-40. -20.   0.  20.  40.]\n",
      " [-40. -20.   0.  20.  40.]\n",
      " [-40. -20.   0.  20.  40.]\n",
      " [-40. -20.   0.  20.  40.]\n",
      " [-40. -20.   0.  20.  40.]]\n",
      "northing: [[-40. -40. -40. -40. -40.]\n",
      " [-20. -20. -20. -20. -20.]\n",
      " [  0.   0.   0.   0.   0.]\n",
      " [ 20.  20.  20.  20.  20.]\n",
      " [ 40.  40.  40.  40.  40.]]\n",
      "upward: [[100. 100. 100. 100. 100.]\n",
      " [100. 100. 100. 100. 100.]\n",
      " [100. 100. 100. 100. 100.]\n",
      " [100. 100. 100. 100. 100.]\n",
      " [100. 100. 100. 100. 100.]]\n"
     ]
    }
   ],
   "source": [
    "# Define a regular grid of observation points (coordinates in meters)\n",
    "coordinates = vd.grid_coordinates(\n",
    "    region=(-40, 40, -40, 40), shape=(5, 5), extra_coords=100\n",
    ")\n",
    "easting, northing, upward = coordinates[:]\n",
    "\n",
    "print(\"easting:\", easting)\n",
    "print(\"northing:\", northing)\n",
    "print(\"upward:\", upward)"
   ]
  },
  {
   "cell_type": "code",
   "execution_count": 3,
   "id": "7d74ac40",
   "metadata": {
    "execution": {
     "iopub.execute_input": "2025-09-19T18:31:17.131879Z",
     "iopub.status.busy": "2025-09-19T18:31:17.131698Z",
     "iopub.status.idle": "2025-09-19T18:31:17.134627Z",
     "shell.execute_reply": "2025-09-19T18:31:17.134149Z"
    }
   },
   "outputs": [
    {
     "name": "stdout",
     "output_type": "stream",
     "text": [
      "Point 1 is higher than point 2? False\n"
     ]
    }
   ],
   "source": [
    "# Define two points\n",
    "point_1 = (30, 20, -67)\n",
    "point_2 = (30, 20, -58)\n",
    "print(\"Point 1 is higher than point 2?\", point_1[2] > point_2[2])"
   ]
  },
  {
   "cell_type": "code",
   "execution_count": 4,
   "id": "483b4275",
   "metadata": {
    "execution": {
     "iopub.execute_input": "2025-09-19T18:31:17.136025Z",
     "iopub.status.busy": "2025-09-19T18:31:17.135859Z",
     "iopub.status.idle": "2025-09-19T18:31:17.139792Z",
     "shell.execute_reply": "2025-09-19T18:31:17.139368Z"
    }
   },
   "outputs": [
    {
     "name": "stdout",
     "output_type": "stream",
     "text": [
      "longitude: [[-70. -69. -68. -67. -66. -65.]\n",
      " [-70. -69. -68. -67. -66. -65.]\n",
      " [-70. -69. -68. -67. -66. -65.]\n",
      " [-70. -69. -68. -67. -66. -65.]\n",
      " [-70. -69. -68. -67. -66. -65.]\n",
      " [-70. -69. -68. -67. -66. -65.]]\n",
      "latitude: [[-35. -35. -35. -35. -35. -35.]\n",
      " [-34. -34. -34. -34. -34. -34.]\n",
      " [-33. -33. -33. -33. -33. -33.]\n",
      " [-32. -32. -32. -32. -32. -32.]\n",
      " [-31. -31. -31. -31. -31. -31.]\n",
      " [-30. -30. -30. -30. -30. -30.]]\n",
      "height: [[2000. 2000. 2000. 2000. 2000. 2000.]\n",
      " [2000. 2000. 2000. 2000. 2000. 2000.]\n",
      " [2000. 2000. 2000. 2000. 2000. 2000.]\n",
      " [2000. 2000. 2000. 2000. 2000. 2000.]\n",
      " [2000. 2000. 2000. 2000. 2000. 2000.]\n",
      " [2000. 2000. 2000. 2000. 2000. 2000.]]\n"
     ]
    }
   ],
   "source": [
    "coordinates = vd.grid_coordinates(\n",
    "    region=(-70, -65, -35, -30), shape=(6, 6), extra_coords=2e3\n",
    ")\n",
    "longitude, latitude, height = coordinates[:]\n",
    "print(\"longitude:\", longitude)\n",
    "print(\"latitude:\", latitude)\n",
    "print(\"height:\", height)"
   ]
  },
  {
   "cell_type": "code",
   "execution_count": 5,
   "id": "da0b8902",
   "metadata": {
    "execution": {
     "iopub.execute_input": "2025-09-19T18:31:17.141066Z",
     "iopub.status.busy": "2025-09-19T18:31:17.140916Z",
     "iopub.status.idle": "2025-09-19T18:31:17.157022Z",
     "shell.execute_reply": "2025-09-19T18:31:17.156574Z"
    }
   },
   "outputs": [
    {
     "name": "stdout",
     "output_type": "stream",
     "text": [
      "WGS84 - World Geodetic System (1984)\n",
      "Oblate ellipsoid:\n",
      "  • Semimajor axis: 6378137 m\n",
      "  • Flattening: 0.0033528106647474805\n",
      "  • GM: 398600441800000.0 m³/s²\n",
      "  • Angular velocity: 7.292115e-05 rad/s\n",
      "Source:\n",
      "  Hofmann-Wellenhof, B., & Moritz, H. (2006). Physical Geodesy (2nd,\n",
      "    corr. ed. 2006 edition ed.). Wien; New York: Springer.\n"
     ]
    }
   ],
   "source": [
    "import boule as bl\n",
    "\n",
    "ellipsoid = bl.WGS84\n",
    "print(ellipsoid)"
   ]
  },
  {
   "cell_type": "code",
   "execution_count": 6,
   "id": "ee7a118d",
   "metadata": {
    "execution": {
     "iopub.execute_input": "2025-09-19T18:31:17.158407Z",
     "iopub.status.busy": "2025-09-19T18:31:17.158256Z",
     "iopub.status.idle": "2025-09-19T18:31:17.250552Z",
     "shell.execute_reply": "2025-09-19T18:31:17.250058Z"
    }
   },
   "outputs": [
    {
     "name": "stdout",
     "output_type": "stream",
     "text": [
      "easting: [[-7792364.35552915 -7681044.86473588 -7569725.3739426  -7458405.88314933\n",
      "  -7347086.39235606 -7235766.90156278]\n",
      " [-7792364.35552915 -7681044.86473588 -7569725.3739426  -7458405.88314933\n",
      "  -7347086.39235606 -7235766.90156278]\n",
      " [-7792364.35552915 -7681044.86473588 -7569725.3739426  -7458405.88314933\n",
      "  -7347086.39235606 -7235766.90156278]\n",
      " [-7792364.35552915 -7681044.86473588 -7569725.3739426  -7458405.88314933\n",
      "  -7347086.39235606 -7235766.90156278]\n",
      " [-7792364.35552915 -7681044.86473588 -7569725.3739426  -7458405.88314933\n",
      "  -7347086.39235606 -7235766.90156278]\n",
      " [-7792364.35552915 -7681044.86473588 -7569725.3739426  -7458405.88314933\n",
      "  -7347086.39235606 -7235766.90156278]]\n",
      "northing: [[-4139372.7622473  -4139372.7622473  -4139372.7622473  -4139372.7622473\n",
      "  -4139372.7622473  -4139372.7622473 ]\n",
      " [-4004909.10948031 -4004909.10948031 -4004909.10948031 -4004909.10948031\n",
      "  -4004909.10948031 -4004909.10948031]\n",
      " [-3872033.73289718 -3872033.73289718 -3872033.73289718 -3872033.73289718\n",
      "  -3872033.73289718 -3872033.73289718]\n",
      " [-3740670.1135821  -3740670.1135821  -3740670.1135821  -3740670.1135821\n",
      "  -3740670.1135821  -3740670.1135821 ]\n",
      " [-3610745.18533098 -3610745.18533098 -3610745.18533098 -3610745.18533098\n",
      "  -3610745.18533098 -3610745.18533098]\n",
      " [-3482189.08540862 -3482189.08540862 -3482189.08540862 -3482189.08540862\n",
      "  -3482189.08540862 -3482189.08540862]]\n"
     ]
    }
   ],
   "source": [
    "import pyproj\n",
    "\n",
    "# Define a Mercator projection through pyproj\n",
    "projection = pyproj.Proj(proj=\"merc\", ellps=\"WGS84\")\n",
    "\n",
    "# Project the longitude and latitude coordinates of the grid points\n",
    "longitude, latitude = coordinates[:2]\n",
    "easting, northing = projection(longitude, latitude)\n",
    "\n",
    "print(\"easting:\", easting)\n",
    "print(\"northing:\", northing)"
   ]
  },
  {
   "cell_type": "code",
   "execution_count": 7,
   "id": "b884012c",
   "metadata": {
    "execution": {
     "iopub.execute_input": "2025-09-19T18:31:17.252065Z",
     "iopub.status.busy": "2025-09-19T18:31:17.251868Z",
     "iopub.status.idle": "2025-09-19T18:31:17.257770Z",
     "shell.execute_reply": "2025-09-19T18:31:17.257337Z"
    }
   },
   "outputs": [
    {
     "name": "stdout",
     "output_type": "stream",
     "text": [
      "longitude: [[-70. -69. -68. -67. -66. -65.]\n",
      " [-70. -69. -68. -67. -66. -65.]\n",
      " [-70. -69. -68. -67. -66. -65.]\n",
      " [-70. -69. -68. -67. -66. -65.]\n",
      " [-70. -69. -68. -67. -66. -65.]\n",
      " [-70. -69. -68. -67. -66. -65.]]\n",
      "spherical latitude: [[-35. -35. -35. -35. -35. -35.]\n",
      " [-34. -34. -34. -34. -34. -34.]\n",
      " [-33. -33. -33. -33. -33. -33.]\n",
      " [-32. -32. -32. -32. -32. -32.]\n",
      " [-31. -31. -31. -31. -31. -31.]\n",
      " [-30. -30. -30. -30. -30. -30.]]\n",
      "radius: [[6370994.40182758 6370994.40182758 6370994.40182758 6370994.40182758\n",
      "  6370994.40182758 6370994.40182758]\n",
      " [6370994.40182758 6370994.40182758 6370994.40182758 6370994.40182758\n",
      "  6370994.40182758 6370994.40182758]\n",
      " [6370994.40182758 6370994.40182758 6370994.40182758 6370994.40182758\n",
      "  6370994.40182758 6370994.40182758]\n",
      " [6370994.40182758 6370994.40182758 6370994.40182758 6370994.40182758\n",
      "  6370994.40182758 6370994.40182758]\n",
      " [6370994.40182758 6370994.40182758 6370994.40182758 6370994.40182758\n",
      "  6370994.40182758 6370994.40182758]\n",
      " [6370994.40182758 6370994.40182758 6370994.40182758 6370994.40182758\n",
      "  6370994.40182758 6370994.40182758]]\n"
     ]
    }
   ],
   "source": [
    "coordinates = vd.grid_coordinates(\n",
    "    region=(-70, -65, -35, -30),\n",
    "    shape=(6, 6),\n",
    "    extra_coords=ellipsoid.mean_radius,\n",
    ")\n",
    "longitude, sph_latitude, radius = coordinates[:]\n",
    "print(\"longitude:\", longitude)\n",
    "print(\"spherical latitude:\", sph_latitude)\n",
    "print(\"radius:\", radius)"
   ]
  },
  {
   "cell_type": "code",
   "execution_count": 8,
   "id": "f10516e2",
   "metadata": {
    "execution": {
     "iopub.execute_input": "2025-09-19T18:31:17.259264Z",
     "iopub.status.busy": "2025-09-19T18:31:17.259065Z",
     "iopub.status.idle": "2025-09-19T18:31:17.262703Z",
     "shell.execute_reply": "2025-09-19T18:31:17.262237Z"
    }
   },
   "outputs": [
    {
     "name": "stdout",
     "output_type": "stream",
     "text": [
      "longitude: [[-70. -69. -68. -67. -66. -65.]\n",
      " [-70. -69. -68. -67. -66. -65.]\n",
      " [-70. -69. -68. -67. -66. -65.]\n",
      " [-70. -69. -68. -67. -66. -65.]\n",
      " [-70. -69. -68. -67. -66. -65.]\n",
      " [-70. -69. -68. -67. -66. -65.]]\n",
      "latitude: [[-35.18102907 -35.18102907 -35.18102907 -35.18102907 -35.18102907\n",
      "  -35.18102907]\n",
      " [-34.17864869 -34.17864869 -34.17864869 -34.17864869 -34.17864869\n",
      "  -34.17864869]\n",
      " [-33.17604943 -33.17604943 -33.17604943 -33.17604943 -33.17604943\n",
      "  -33.17604943]\n",
      " [-32.17323438 -32.17323438 -32.17323438 -32.17323438 -32.17323438\n",
      "  -32.17323438]\n",
      " [-31.17020688 -31.17020688 -31.17020688 -31.17020688 -31.17020688\n",
      "  -31.17020688]\n",
      " [-30.16697054 -30.16697054 -30.16697054 -30.16697054 -30.16697054\n",
      "  -30.16697054]]\n",
      "height: [[  -83.44704281   -83.44704281   -83.44704281   -83.44704281\n",
      "    -83.44704281   -83.44704281]\n",
      " [ -432.49826962  -432.49826962  -432.49826962  -432.49826962\n",
      "   -432.49826962  -432.49826962]\n",
      " [ -776.71701812  -776.71701812  -776.71701812  -776.71701812\n",
      "   -776.71701812  -776.71701812]\n",
      " [-1115.68145507 -1115.68145507 -1115.68145507 -1115.68145507\n",
      "  -1115.68145507 -1115.68145507]\n",
      " [-1448.97598505 -1448.97598505 -1448.97598505 -1448.97598505\n",
      "  -1448.97598505 -1448.97598505]\n",
      " [-1776.19176956 -1776.19176956 -1776.19176956 -1776.19176956\n",
      "  -1776.19176956 -1776.19176956]]\n"
     ]
    }
   ],
   "source": [
    "coordinates_geodetic = ellipsoid.spherical_to_geodetic(*coordinates)\n",
    "longitude, latitude, height = coordinates_geodetic[:]\n",
    "print(\"longitude:\", longitude)\n",
    "print(\"latitude:\", latitude)\n",
    "print(\"height:\", height)"
   ]
  },
  {
   "cell_type": "code",
   "execution_count": 9,
   "id": "574c2532",
   "metadata": {
    "execution": {
     "iopub.execute_input": "2025-09-19T18:31:17.264005Z",
     "iopub.status.busy": "2025-09-19T18:31:17.263852Z",
     "iopub.status.idle": "2025-09-19T18:31:17.267568Z",
     "shell.execute_reply": "2025-09-19T18:31:17.267149Z"
    }
   },
   "outputs": [
    {
     "name": "stdout",
     "output_type": "stream",
     "text": [
      "longitude: [[-70. -69. -68. -67. -66. -65.]\n",
      " [-70. -69. -68. -67. -66. -65.]\n",
      " [-70. -69. -68. -67. -66. -65.]\n",
      " [-70. -69. -68. -67. -66. -65.]\n",
      " [-70. -69. -68. -67. -66. -65.]\n",
      " [-70. -69. -68. -67. -66. -65.]]\n",
      "spherical latitude: [[-35. -35. -35. -35. -35. -35.]\n",
      " [-34. -34. -34. -34. -34. -34.]\n",
      " [-33. -33. -33. -33. -33. -33.]\n",
      " [-32. -32. -32. -32. -32. -32.]\n",
      " [-31. -31. -31. -31. -31. -31.]\n",
      " [-30. -30. -30. -30. -30. -30.]]\n",
      "radius: [[6370994.40182757 6370994.40182757 6370994.40182757 6370994.40182757\n",
      "  6370994.40182757 6370994.40182757]\n",
      " [6370994.40182757 6370994.40182757 6370994.40182757 6370994.40182757\n",
      "  6370994.40182757 6370994.40182757]\n",
      " [6370994.40182758 6370994.40182758 6370994.40182758 6370994.40182758\n",
      "  6370994.40182758 6370994.40182758]\n",
      " [6370994.40182757 6370994.40182757 6370994.40182757 6370994.40182757\n",
      "  6370994.40182757 6370994.40182757]\n",
      " [6370994.40182758 6370994.40182758 6370994.40182758 6370994.40182758\n",
      "  6370994.40182758 6370994.40182758]\n",
      " [6370994.40182758 6370994.40182758 6370994.40182758 6370994.40182758\n",
      "  6370994.40182758 6370994.40182758]]\n"
     ]
    }
   ],
   "source": [
    "coordinates_spherical = ellipsoid.geodetic_to_spherical(*coordinates_geodetic)\n",
    "longitude, sph_latitude, radius = coordinates_spherical[:]\n",
    "print(\"longitude:\", longitude)\n",
    "print(\"spherical latitude:\", sph_latitude)\n",
    "print(\"radius:\", radius)"
   ]
  }
 ],
 "metadata": {
  "kernelspec": {
   "display_name": "Python 3 (ipykernel)",
   "language": "python",
   "name": "python3"
  },
  "language_info": {
   "codemirror_mode": {
    "name": "ipython",
    "version": 3
   },
   "file_extension": ".py",
   "mimetype": "text/x-python",
   "name": "python",
   "nbconvert_exporter": "python",
   "pygments_lexer": "ipython3",
   "version": "3.12.11"
  }
 },
 "nbformat": 4,
 "nbformat_minor": 5
}