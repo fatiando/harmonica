{
  "cells": [
    {
      "cell_type": "markdown",
      "metadata": {},
      "source": [
        "\n# Layer of tesseroids\n"
      ]
    },
    {
      "cell_type": "code",
      "execution_count": null,
      "metadata": {
        "collapsed": false
      },
      "outputs": [],
      "source": [
        "import boule as bl\nimport ensaio\nimport numpy as np\nimport pygmt\nimport verde as vd\nimport xarray as xr\n\nimport harmonica as hm\n\nfname = ensaio.fetch_earth_topography(version=1)\ntopo = xr.load_dataarray(fname)\n\nregion = (-78, -53, -57, -20)\ntopo = topo.sel(latitude=slice(*region[2:]), longitude=slice(*region[:2]))\n\nellipsoid = bl.WGS84\n\nlongitude, latitude = np.meshgrid(topo.longitude, topo.latitude)\nreference = ellipsoid.geocentric_radius(latitude)\nsurface = topo + reference\ndensity = xr.where(topo > 0, 2670.0, 1040.0 - 2670.0)\n\ntesseroids = hm.tesseroid_layer(\n    coordinates=(topo.longitude, topo.latitude),\n    surface=surface,\n    reference=reference,\n    properties={\"density\": density},\n)\n\n# Create a regular grid of computation points located at 10km above reference\ngrid_longitude, grid_latitude = vd.grid_coordinates(region=region, spacing=0.5)\ngrid_radius = ellipsoid.geocentric_radius(grid_latitude) + 10e3\ngrid_coords = (grid_longitude, grid_latitude, grid_radius)\n\n# Compute gravity field of tesseroids on a regular grid of observation points\ngravity = tesseroids.tesseroid_layer.gravity(grid_coords, field=\"g_z\")\ngravity = vd.make_xarray_grid(\n    grid_coords,\n    gravity,\n    data_names=\"g_z\",\n    dims=(\"latitude\", \"longitude\"),\n    extra_coords_names=\"radius\",\n)\n\n# Plot gravity field\nfig = pygmt.Figure()\nmaxabs = vd.maxabs(gravity.g_z)\npygmt.makecpt(cmap=\"polar\", series=(-maxabs, maxabs))\nfig.grdimage(\n    gravity.g_z,\n    projection=\"M15c\",\n    nan_transparent=True,\n)\nfig.basemap(frame=True)\nfig.colorbar(frame='af+l\"Gravity [mGal]\"', position=\"JCR\")\nfig.coast(shorelines=\"0.5p,black\", borders=[\"1/0.5p,black\"])\nfig.show()"
      ]
    }
  ],
  "metadata": {
    "kernelspec": {
      "display_name": "Python 3",
      "language": "python",
      "name": "python3"
    },
    "language_info": {
      "codemirror_mode": {
        "name": "ipython",
        "version": 3
      },
      "file_extension": ".py",
      "mimetype": "text/x-python",
      "name": "python",
      "nbconvert_exporter": "python",
      "pygments_lexer": "ipython3",
      "version": "3.12.11"
    }
  },
  "nbformat": 4,
  "nbformat_minor": 0
}